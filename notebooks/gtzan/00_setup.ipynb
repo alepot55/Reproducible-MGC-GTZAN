{
 "cells": [
  {
   "cell_type": "markdown",
   "id": "954bc2d0",
   "metadata": {},
   "source": [
    "# 00 — Setup & Data Preparation (GTZAN)\n",
    "\n",
    "Replica del notebook originale di preprocessing con path robusti e salvataggi in `data/processed`.\n"
   ]
  },
  {
   "cell_type": "code",
   "execution_count": 1,
   "id": "2f34736d",
   "metadata": {},
   "outputs": [
    {
     "name": "stdout",
     "output_type": "stream",
     "text": [
      "PROJECT_ROOT: /home/alepot55/Desktop/projects/naml_project\n",
      "DATA_PATH: /home/alepot55/Desktop/projects/naml_project/data/gtzan/genres\n",
      "PROCESSED_DATA_PATH: /home/alepot55/Desktop/projects/naml_project/data/processed\n"
     ]
    }
   ],
   "source": [
    "# Import & Paths\n",
    "import os, sys, numpy as np, pickle\n",
    "from pathlib import Path\n",
    "PROJECT_ROOT = Path(os.getcwd()).resolve().parents[1]\n",
    "DATA_PATH = PROJECT_ROOT / 'data' / 'gtzan' / 'genres'\n",
    "PROCESSED_DATA_PATH = PROJECT_ROOT / 'data' / 'processed'\n",
    "PROCESSED_DATA_PATH.mkdir(parents=True, exist_ok=True)\n",
    "print('PROJECT_ROOT:', PROJECT_ROOT)\n",
    "print('DATA_PATH:', DATA_PATH)\n",
    "print('PROCESSED_DATA_PATH:', PROCESSED_DATA_PATH)"
   ]
  },
  {
   "cell_type": "code",
   "execution_count": 2,
   "id": "5a415129",
   "metadata": {},
   "outputs": [
    {
     "name": "stdout",
     "output_type": "stream",
     "text": [
      "Dati caricati correttamente: (6000, 128, 128, 1) (2000, 128, 128, 1) (2000, 128, 128, 1)\n"
     ]
    }
   ],
   "source": [
    "# Reuse logic by loading arrays already produced by the original 00 notebook if present\n",
    "import numpy as np\n",
    "files = ['X_train.npy','y_train.npy','X_val.npy','y_val.npy','X_test.npy','y_test.npy','label_encoder.pkl','scaler.pkl']\n",
    "missing = [f for f in files if not (PROCESSED_DATA_PATH / f).exists()]\n",
    "if missing:\n",
    "    raise FileNotFoundError(f'Mancano file processati: {missing}. Esegui prima notebooks/00_Setup_and_Data_Preparation.ipynb')\n",
    "else:\n",
    "    X_train = np.load(PROCESSED_DATA_PATH/'X_train.npy'); y_train = np.load(PROCESSED_DATA_PATH/'y_train.npy')\n",
    "    X_val = np.load(PROCESSED_DATA_PATH/'X_val.npy'); y_val = np.load(PROCESSED_DATA_PATH/'y_val.npy')\n",
    "    X_test = np.load(PROCESSED_DATA_PATH/'X_test.npy'); y_test = np.load(PROCESSED_DATA_PATH/'y_test.npy')\n",
    "    with open(PROCESSED_DATA_PATH/'label_encoder.pkl','rb') as f: label_encoder = pickle.load(f)\n",
    "    print('Dati caricati correttamente:', X_train.shape, X_val.shape, X_test.shape)"
   ]
  }
 ],
 "metadata": {
  "kernelspec": {
   "display_name": "venv (3.12.3)",
   "language": "python",
   "name": "python3"
  },
  "language_info": {
   "codemirror_mode": {
    "name": "ipython",
    "version": 3
   },
   "file_extension": ".py",
   "mimetype": "text/x-python",
   "name": "python",
   "nbconvert_exporter": "python",
   "pygments_lexer": "ipython3",
   "version": "3.12.3"
  }
 },
 "nbformat": 4,
 "nbformat_minor": 5
}
